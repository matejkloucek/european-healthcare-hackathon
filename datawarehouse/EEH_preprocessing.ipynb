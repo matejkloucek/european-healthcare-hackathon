{
 "cells": [
  {
   "cell_type": "code",
   "execution_count": null,
   "id": "66243873",
   "metadata": {},
   "outputs": [],
   "source": [
    "import numpy as np\n",
    "import pandas as pd\n",
    "from nltk.tokenize import word_tokenize"
   ]
  },
  {
   "cell_type": "code",
   "execution_count": null,
   "id": "b3ff4ae6",
   "metadata": {},
   "outputs": [],
   "source": [
    "hospitalizations = pd.read_csv(\"Hospitalization.csv\")\n",
    "operations = pd.read_csv(\"Operations.csv\")"
   ]
  },
  {
   "cell_type": "code",
   "execution_count": null,
   "id": "d29a37cc",
   "metadata": {},
   "outputs": [],
   "source": [
    "hospitalizations = hospitalizations.fillna('')\n",
    "hospitalizations"
   ]
  },
  {
   "cell_type": "code",
   "execution_count": null,
   "id": "9b62c7e8",
   "metadata": {},
   "outputs": [],
   "source": [
    "operations = operations.fillna('')\n",
    "operations"
   ]
  },
  {
   "cell_type": "code",
   "execution_count": null,
   "id": "0890eeec",
   "metadata": {},
   "outputs": [],
   "source": [
    "# Check if Hospitalization has multiple related Operations\n",
    "hospitalization_operations_count = operations['hosp_id'].value_counts()\n",
    "multiple_operations_for_hospitalization = hospitalization_operations_count[hospitalization_operations_count > 1]\n",
    "\n",
    "if not multiple_operations_for_hospitalization.empty:\n",
    "    print(\"Some hospitalizations have multiple related operations.\")\n",
    "    print(multiple_operations_for_hospitalization)\n",
    "else:\n",
    "    print(\"Each hospitalization has at most one related operation.\")\n",
    "\n",
    "# Check if Operations have multiple related Hospitalizations\n",
    "operations_hospitalization_count = hospitalizations['hosp_id'].isin(operations['hosp_id']).sum()\n",
    "if operations_hospitalization_count > len(operations):\n",
    "    print(\"Some operations are related to multiple hospitalizations.\")\n",
    "else:\n",
    "    print(\"Each operation is related to at most one hospitalization.\")"
   ]
  },
  {
   "cell_type": "code",
   "execution_count": null,
   "id": "5c16e9e3",
   "metadata": {},
   "outputs": [],
   "source": [
    "# Merge the DataFrames on hospitalization_id\n",
    "merged_df = pd.merge(hospitalizations, operations[['hosp_id', 'description', 'oper_proc']], on='hosp_id', how='left')\n",
    "\n",
    "merged_df"
   ]
  },
  {
   "cell_type": "code",
   "execution_count": null,
   "id": "6900dcd4",
   "metadata": {
    "scrolled": true
   },
   "outputs": [],
   "source": [
    "duplicate_count = merged_df['hosp_id'].value_counts()\n",
    "duplicate_count"
   ]
  },
  {
   "cell_type": "code",
   "execution_count": null,
   "id": "2a122d36",
   "metadata": {},
   "outputs": [],
   "source": [
    "# Count how many hosp_id values have more than one related operation\n",
    "multiple_operations_count = (merged_df['hosp_id'].value_counts() > 1).sum()\n",
    "multiple_operations_count"
   ]
  },
  {
   "cell_type": "code",
   "execution_count": null,
   "id": "34e77f09",
   "metadata": {},
   "outputs": [],
   "source": [
    "# Merge the DataFrames on hospitalization_id using a left join\n",
    "merged_df = pd.merge(hospitalizations, operations[['hosp_id', 'description', 'oper_proc']], on='hosp_id', how='left')\n",
    "\n",
    "# Group by hosp_id and aggregate descriptions and oper_proc into lists\n",
    "grouped_df = merged_df.groupby('hosp_id').agg({'description': list, 'oper_proc': list}).reset_index()\n",
    "\n",
    "# Merge the aggregated data back to the hospitalization DataFrame\n",
    "result_df = pd.merge(hospitalizations, grouped_df, on='hosp_id', how='left')\n",
    "result_df"
   ]
  },
  {
   "cell_type": "code",
   "execution_count": null,
   "id": "8209320f",
   "metadata": {},
   "outputs": [],
   "source": [
    "result_df.at[140, \"description\"]"
   ]
  },
  {
   "cell_type": "code",
   "execution_count": null,
   "id": "9cd540bb",
   "metadata": {},
   "outputs": [],
   "source": [
    "len(result_df.at[140, \"description\"])"
   ]
  },
  {
   "cell_type": "code",
   "execution_count": null,
   "id": "53525b0a",
   "metadata": {},
   "outputs": [],
   "source": [
    "test = result_df\n",
    "# Function to format pairs of elements\n",
    "def format_pairs(row):\n",
    "    if any(pd.isna(elem) for elem in row['oper_proc']):\n",
    "        # Handle nan values by returning an empty string\n",
    "        return ''\n",
    "    pairs = [f\"Procedura: ${elem1}, Popis operace: ${elem2}\" for elem1, elem2 in zip(row['oper_proc'], row['description'])]\n",
    "    return ', '.join(pairs)\n",
    "\n",
    "# Apply the function to create a new column\n",
    "test['MergedColumn'] = test.apply(format_pairs, axis=1)\n",
    "test"
   ]
  },
  {
   "cell_type": "code",
   "execution_count": null,
   "id": "3c975e33",
   "metadata": {},
   "outputs": [],
   "source": [
    "non_empty_rows = test[test['MergedColumn'] != '']\n",
    "non_empty_rows"
   ]
  },
  {
   "cell_type": "code",
   "execution_count": null,
   "id": "fa366d6d",
   "metadata": {},
   "outputs": [],
   "source": [
    "non_empty_rows.at[168, \"MergedColumn\"]"
   ]
  },
  {
   "cell_type": "code",
   "execution_count": null,
   "id": "c0cb0190",
   "metadata": {},
   "outputs": [],
   "source": [
    "pre_merge_df = test.drop([\"description\", \"oper_proc\", \"hosp_id\"], axis=1)\n",
    "pre_merge_df"
   ]
  },
  {
   "cell_type": "code",
   "execution_count": null,
   "id": "1af4c128",
   "metadata": {},
   "outputs": [],
   "source": [
    "# Function to merge columns\n",
    "def merge_columns(row):\n",
    "    merged_text = []\n",
    "    if row['adm_cur_problems']:\n",
    "        merged_text.append(f\"Problémy pacienta při příjetí: {row['adm_cur_problems']}\")\n",
    "    if row['adm_findings']:\n",
    "        merged_text.append(f\"Nálezy při přijetí: {row['adm_findings']}\")\n",
    "    if row['adm_conclusion']:\n",
    "        merged_text.append(f\"Závěr při přijetí: {row['adm_conclusion']}\")\n",
    "    if row['dis_hosp_reason']:\n",
    "        merged_text.append(f\"Důvod hospitalizace: {row['dis_hosp_reason']}\")\n",
    "    if row['dis_opers']:\n",
    "        merged_text.append(f\"Operace při propuštění: {row['dis_opers']}\")\n",
    "    if row['dis_exams']:\n",
    "        merged_text.append(f\"Testy při propuštění: {row['dis_exams']}\")\n",
    "    if row['MergedColumn']:\n",
    "        merged_text.append(f\"Provedené operace: {row['MergedColumn']}\")\n",
    "    return ', '.join(merged_text)\n",
    "\n",
    "# Apply the function to create a new column\n",
    "pre_merge_df['merged_text'] = pre_merge_df.apply(merge_columns, axis=1)"
   ]
  },
  {
   "cell_type": "code",
   "execution_count": null,
   "id": "0364322e",
   "metadata": {},
   "outputs": [],
   "source": [
    "pre_merge_df"
   ]
  },
  {
   "cell_type": "code",
   "execution_count": null,
   "id": "9860f1de",
   "metadata": {},
   "outputs": [],
   "source": [
    "limited_df = pre_merge_df[[\"merged_text\", \"dis_hosp_summary\"]]\n",
    "limited_df"
   ]
  },
  {
   "cell_type": "code",
   "execution_count": null,
   "id": "e82baae8",
   "metadata": {},
   "outputs": [],
   "source": [
    "# Dictionary to map old column names to new names\n",
    "column_mapping = {'merged_text': 'information', 'dis_hosp_summary': 'summary'}\n",
    "\n",
    "# Use the rename method to rename columns\n",
    "final_df = limited_df.rename(columns=column_mapping)\n",
    "final_df"
   ]
  },
  {
   "cell_type": "code",
   "execution_count": null,
   "id": "577c5ad1",
   "metadata": {},
   "outputs": [],
   "source": [
    "final_df.to_csv('preprocessed_data.csv', index=False)"
   ]
  },
  {
   "cell_type": "code",
   "execution_count": null,
   "id": "fe72c5a7",
   "metadata": {},
   "outputs": [],
   "source": []
  }
 ],
 "metadata": {
  "kernelspec": {
   "display_name": "Python 3 (ipykernel)",
   "language": "python",
   "name": "python3"
  },
  "language_info": {
   "codemirror_mode": {
    "name": "ipython",
    "version": 3
   },
   "file_extension": ".py",
   "mimetype": "text/x-python",
   "name": "python",
   "nbconvert_exporter": "python",
   "pygments_lexer": "ipython3",
   "version": "3.11.5"
  }
 },
 "nbformat": 4,
 "nbformat_minor": 5
}
